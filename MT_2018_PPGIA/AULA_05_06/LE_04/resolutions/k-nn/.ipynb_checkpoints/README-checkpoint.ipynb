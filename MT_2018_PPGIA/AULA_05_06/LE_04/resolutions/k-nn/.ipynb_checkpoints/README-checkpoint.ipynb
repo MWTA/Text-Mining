{
 "cells": [
  {
   "cell_type": "markdown",
   "metadata": {},
   "source": [
    "# Description Notebook\n",
    "\n",
    "PROBLEMA 02\n",
    "\n",
    "Implementar o algoritmo k-NN para classificação binária, isto é, considerando apenas 2 classes, usando a representação Bag of Words levando em conta também:\n",
    "\n",
    "- O dataset: Polarity Detection.\n",
    "- Uso de Stopliste Stemming como pré-processamento.\n",
    "- Usar osmétodosde similaridade:\n",
    "    - Shared Word Count, se a palavra parece ou não (peso = 0 ou 1)\n",
    "    - Word Count + Bonus (como nos slides da aula)\n",
    "- Avalie o seu classificador usando 5-fold Cross Validation (N = 5).\n",
    "- Exiba os resultados usando as métricas de Accuracye gereum gráfico da métrica Accuracypara k = {3,  4,  5, 6, 7, 8,  9,  10}\n",
    "    - Para qual valor de k, o algoritmo teve melhor desempenho? Discutir os resultados.\n",
    "    \n",
    "[LE_04_TC_Implementation2.pdf](https://github.com/MWTA/k-nn/blob/master/LE_04_TC_Implementation2.pdf)\n",
    "\n",
    "\n",
    "\n",
    "# About K-NN\n",
    "\n",
    "[k-nearest neighbors algorithm](https://en.wikipedia.org/wiki/K-nearest_neighbors_algorithm)\n",
    "\n",
    "\n",
    "\n",
    "# Dataset\n",
    "\n",
    "Link da base de dados utilizada no projeto.\n",
    "\n",
    "[Readme](https://github.com/MWTA/k-nn/blob/master/dataset/poldata.README.2.0)\n",
    "\n",
    "\n",
    "\n",
    "# Requirements\n",
    "\n",
    "- Python 2.7.15\n",
    "\n",
    "- Python Modules\n",
    "\n",
    "    - [Natural Language Toolkit](http://www.nltk.org/)\n",
    "    \n",
    "    - [Matplot Lib](https://matplotlib.org/)\n",
    "\n",
    "\n",
    "\n",
    "# List Stopwords\n",
    "\n",
    "[Ranks NL](https://www.ranks.nl/stopwords)\n",
    "\n",
    "\n",
    "\n",
    "# Tutorial\n",
    "\n",
    "[Manipulando arquivos de texto em Python ](http://www.devfuria.com.br/python/manipulando-arquivos-de-texto/)\n",
    "\n",
    "[Manipulação de arquivos com Python](https://code.tutsplus.com/pt/tutorials/file-handling-in-python--cms-25623)"
   ]
  },
  {
   "cell_type": "markdown",
   "metadata": {},
   "source": [
    "# File pre-processing.py\n",
    "\n",
    "Nesse primeiro momento, estamos intereçado em organizar os dados.\n",
    "\n",
    "- 1º Todos os arquivos que contem as sentenças são lidos e realizado uma limpeza nos dados.\n",
    "    - 1º Remorção de stopwords;\n",
    "    - 2º Remorção de caracteres especiais;\n",
    "    - 3º Remorção de caracteres numéricos;\n",
    "    - 4º Realizado o processo de Stemming;\n",
    "\n",
    "- 2º Apos ter realizado esse processo para todos os aquivos, eles rotulados de acordo com sua classe e salvos em um unico arquivo com duas colunas contendo as seguintes informções: [dada, label] para facilitar os proximos processos."
   ]
  },
  {
   "cell_type": "code",
   "execution_count": null,
   "metadata": {},
   "outputs": [],
   "source": [
    "import os\n",
    "import re\n",
    "import csv\n",
    "import sys\n",
    "import nltk\n",
    "import random"
   ]
  },
  {
   "cell_type": "code",
   "execution_count": null,
   "metadata": {},
   "outputs": [],
   "source": [
    "reload(sys)\n",
    "sys.setdefaultencoding('utf-8')"
   ]
  },
  {
   "cell_type": "code",
   "execution_count": null,
   "metadata": {},
   "outputs": [],
   "source": [
    "dir_root = '/home/rodriguesfas/Workspace/k-nn/data/'\n",
    "dir_dataset = 'polarity-detection-200-reviews/'\n",
    "dir_stopwords = 'stopwords/stopwords.txt'\n",
    "dir_neg = 'neg_100/'\n",
    "dir_pos = 'pos_100/'\n",
    "dir_out = 'out/'"
   ]
  },
  {
   "cell_type": "code",
   "execution_count": null,
   "metadata": {},
   "outputs": [],
   "source": [
    "files_neg = dir_root + dir_dataset + dir_neg\n",
    "files_pos = dir_root + dir_dataset + dir_pos\n",
    "files_list_stopwords = dir_root + dir_stopwords"
   ]
  },
  {
   "cell_type": "code",
   "execution_count": null,
   "metadata": {},
   "outputs": [],
   "source": [
    "file_corpus = 'pol.data.csv'"
   ]
  },
  {
   "cell_type": "code",
   "execution_count": null,
   "metadata": {},
   "outputs": [],
   "source": [
    "TEST = True"
   ]
  },
  {
   "cell_type": "code",
   "execution_count": null,
   "metadata": {},
   "outputs": [],
   "source": [
    "def LOG(text):\n",
    "    if TEST is True:\n",
    "        print(\">> \" + text)"
   ]
  },
  {
   "cell_type": "code",
   "execution_count": null,
   "metadata": {},
   "outputs": [],
   "source": [
    "def remove_numbers(data):\n",
    "    LOG('Remove numbers..')\n",
    "    return re.sub('[-|0-9]', ' ', data)"
   ]
  },
  {
   "cell_type": "code",
   "execution_count": null,
   "metadata": {},
   "outputs": [],
   "source": [
    "def remove_special_characters(data):\n",
    "    LOG('Remove characters special..')\n",
    "    return re.sub(r'[-_./?,`\":;=+()|@#$%&*^~\\']', '', data)"
   ]
  },
  {
   "cell_type": "code",
   "execution_count": null,
   "metadata": {},
   "outputs": [],
   "source": [
    "def remove_stopwords(data):\n",
    "    LOG('Remove stopwords..')\n",
    "\n",
    "    list_stopwords = open(files_list_stopwords).read()\n",
    "    words_filtered = data[:]\n",
    "    words_filtered = [i for i in data.split() if not i in list_stopwords]\n",
    "\n",
    "    return (\" \".join(words_filtered))"
   ]
  },
  {
   "cell_type": "code",
   "execution_count": null,
   "metadata": {},
   "outputs": [],
   "source": [
    "def stemmer(data):\n",
    "    stemmer = nltk.stem.RSLPStemmer()\n",
    "    words = []\n",
    "\n",
    "    for word in data.split():\n",
    "        words.append(stemmer.stem(word))\n",
    "\n",
    "    return (\" \".join(words))"
   ]
  },
  {
   "cell_type": "code",
   "execution_count": null,
   "metadata": {},
   "outputs": [],
   "source": [
    "def load_corpus(work_dir, label):\n",
    "    dataset = open(dir_root + dir_out + 'pol.data.csv', 'a+')\n",
    "\n",
    "    for file in os.listdir(work_dir):\n",
    "        LOG('Processing file: ' + file)\n",
    "        if file.endswith('.txt'):\n",
    "            words_file = open(work_dir + file).read().lower()\n",
    "            words_file = remove_numbers(words_file)\n",
    "            words_file = remove_special_characters(words_file)\n",
    "            words_file = remove_stopwords(words_file)\n",
    "            words_file = words_file, label\n",
    "            words_file = remove_special_characters(str(words_file))\n",
    "\n",
    "            words_file = str(words_file).replace(\"'\", '').replace('(', '').replace('[', '').replace(\n",
    "                ']', '').replace(')', '').replace('0', ', 0').replace('1', ', 1').replace('x,', '').replace('\\\\', '')\n",
    "\n",
    "            words_file = stemmer(words_file)\n",
    "            dataset.write(words_file + '\\n')\n",
    "    dataset.close()"
   ]
  },
  {
   "cell_type": "code",
   "execution_count": null,
   "metadata": {},
   "outputs": [],
   "source": [
    "def main():\n",
    "    LOG('Processing directory (neg)...')\n",
    "    load_corpus(files_neg, 0)\n",
    "\n",
    "    LOG('Processing directory (pos)...')\n",
    "    load_corpus(files_pos, 1)\n",
    "\n",
    "    LOG('Finalized!')"
   ]
  },
  {
   "cell_type": "code",
   "execution_count": null,
   "metadata": {},
   "outputs": [],
   "source": [
    "# Run\n",
    "main()"
   ]
  },
  {
   "cell_type": "markdown",
   "metadata": {},
   "source": [
    "# File pol.data.csv\n",
    "No fim do processo do script pre-procesing.py o resultado é um novo arquivo contendo todos os dados pré processados e rotulados."
   ]
  },
  {
   "cell_type": "markdown",
   "metadata": {},
   "source": [
    "# k-nn.py"
   ]
  },
  {
   "cell_type": "code",
   "execution_count": 1,
   "metadata": {},
   "outputs": [
    {
     "ename": "ModuleNotFoundError",
     "evalue": "No module named 'nltk'",
     "output_type": "error",
     "traceback": [
      "\u001b[0;31m---------------------------------------------------------------------------\u001b[0m",
      "\u001b[0;31mModuleNotFoundError\u001b[0m                       Traceback (most recent call last)",
      "\u001b[0;32m<ipython-input-1-5cf566205667>\u001b[0m in \u001b[0;36m<module>\u001b[0;34m()\u001b[0m\n\u001b[1;32m      1\u001b[0m \u001b[0;31m# importa da biblioteca para PLN\u001b[0m\u001b[0;34m\u001b[0m\u001b[0;34m\u001b[0m\u001b[0m\n\u001b[0;32m----> 2\u001b[0;31m \u001b[0;32mimport\u001b[0m \u001b[0mnltk\u001b[0m\u001b[0;34m\u001b[0m\u001b[0m\n\u001b[0m",
      "\u001b[0;31mModuleNotFoundError\u001b[0m: No module named 'nltk'"
     ]
    }
   ],
   "source": [
    "import nltk"
   ]
  },
  {
   "cell_type": "code",
   "execution_count": null,
   "metadata": {},
   "outputs": [],
   "source": []
  },
  {
   "cell_type": "code",
   "execution_count": null,
   "metadata": {},
   "outputs": [],
   "source": []
  }
 ],
 "metadata": {
  "kernelspec": {
   "display_name": "Python 2",
   "language": "python",
   "name": "python2"
  },
  "language_info": {
   "codemirror_mode": {
    "name": "ipython",
    "version": 3
   },
   "file_extension": ".py",
   "mimetype": "text/x-python",
   "name": "python",
   "nbconvert_exporter": "python",
   "pygments_lexer": "ipython3",
   "version": "3.6.5"
  }
 },
 "nbformat": 4,
 "nbformat_minor": 2
}
